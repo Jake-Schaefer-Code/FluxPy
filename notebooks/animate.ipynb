{
 "cells": [
  {
   "cell_type": "code",
   "execution_count": 1,
   "metadata": {},
   "outputs": [],
   "source": [
    "import numpy as np\n",
    "import os\n",
    "import h5py\n",
    "from  FluxPy.PDE import curl\n",
    "from matplotlib.animation import FuncAnimation, PillowWriter  \n",
    "import matplotlib.pyplot as plt\n",
    "%matplotlib inline"
   ]
  },
  {
   "cell_type": "code",
   "execution_count": 8,
   "metadata": {},
   "outputs": [],
   "source": [
    "def read_files(run_path, num_files=None):\n",
    "    u_list, v_list, p_list = [], [], []\n",
    "    try:\n",
    "        files = os.listdir(run_path)\n",
    "    except FileNotFoundError as e:\n",
    "        print(e, 'is not a valid run directory')\n",
    "        return None\n",
    "    if num_files is None: num_files = sum('data_' in file for file in files)\n",
    "    for i in range(num_files):\n",
    "        with h5py.File(f'{run_path}/data_{2*i}.h5', 'r') as file:\n",
    "            u_dataset, v_dataset, p_dataset = file['u'], file['v'], file['p']\n",
    "            u_list.extend(list(u_dataset))\n",
    "            v_list.extend(list(v_dataset))\n",
    "            p_list.extend(list(p_dataset))\n",
    "    return {'u':np.array(u_list), 'v':np.array(v_list), 'p':np.array(p_list)}\n"
   ]
  },
  {
   "cell_type": "code",
   "execution_count": 43,
   "metadata": {},
   "outputs": [
    {
     "name": "stdout",
     "output_type": "stream",
     "text": [
      "13\n"
     ]
    }
   ],
   "source": [
    "dx = 12/200\n",
    "dy = 4/200\n",
    "\n",
    "def animate(run_path:str, var:str):\n",
    "    data = read_files(run_path)\n",
    "    if data is None:\n",
    "        return \n",
    "    if var in ['u', 'v', 'p']:\n",
    "        field = data[var]\n",
    "    elif var == 'curl':\n",
    "        u_array, v_array = data['u'], data['v']\n",
    "        field = np.abs(np.array([curl(u_array[i], v_array[i], dx, dy) for i in range(u_array.shape[0])]))\n",
    "    else:\n",
    "        return\n",
    "    \n",
    "    return field\n",
    "        \n",
    "animate(\"figs/run4\")"
   ]
  },
  {
   "cell_type": "code",
   "execution_count": 11,
   "metadata": {},
   "outputs": [
    {
     "name": "stdout",
     "output_type": "stream",
     "text": [
      "0.0 85.05185301602496\n"
     ]
    },
    {
     "data": {
      "image/png": "[encoded data removed]",
      "text/plain": [
       "<Figure size 640x480 with 1 Axes>"
      ]
     },
     "metadata": {},
     "output_type": "display_data"
    }
   ],
   "source": [
    "Lx = 12\n",
    "Ly = 4\n",
    "dx = Lx/200\n",
    "dy = Ly/200\n",
    "data = read_files(\"figs/run4/data\")\n",
    "u_array, v_array, p_array = data['u'], data['v'], data['p']\n",
    "x = np.linspace(0, Lx, u_array[0].shape[0])\n",
    "y = np.linspace(0, Ly, u_array[0].shape[1])\n",
    "X, Y = np.meshgrid(x, y)\n",
    "fig, ax = plt.subplots()\n",
    "mag = np.sqrt(u_array**2 + v_array**2)\n",
    "curls = np.abs(np.array([curl(u_array[i], v_array[i], dx, dy) for i in range(u_array.shape[0])]))\n",
    "\n",
    "levels = np.linspace(np.min(curls), np.max(curls), 1000)\n",
    "contour = ax.contourf(X, Y, curls[0], levels=levels, cmap='bone')\n",
    "#ax.set_xlim(0, 4)\n",
    "#ax.set_ylim(1, 3)\n",
    "ax.set_aspect('equal')\n",
    "print(np.min(curls), np.max(curls))"
   ]
  },
  {
   "cell_type": "code",
   "execution_count": 6,
   "metadata": {},
   "outputs": [],
   "source": [
    "field = curls\n",
    "\n",
    "\n",
    "def init():\n",
    "    global contour\n",
    "    contour = ax.contourf(X, Y, field[0], levels=levels, cmap='bone')\n",
    "    return contour.collections\n",
    "\n",
    "def animate(i):\n",
    "    global contour\n",
    "    for c in contour.collections:\n",
    "        c.remove()  # Remove previous contour collections\n",
    "    contour = ax.contourf(X, Y, field[i], levels=levels, cmap='bone')\n",
    "    #fig.canvas.draw()\n",
    "    return contour.collections\n",
    "\n",
    "anim = FuncAnimation(fig, animate, init_func=init, frames=len(field), blit=False)"
   ]
  },
  {
   "cell_type": "code",
   "execution_count": 7,
   "metadata": {},
   "outputs": [],
   "source": [
    "iter = 5\n",
    "anim.save(f'karman_street.gif', writer='pillow', fps=30)"
   ]
  },
  {
   "cell_type": "markdown",
   "metadata": {},
   "source": []
  },
  {
   "cell_type": "code",
   "execution_count": null,
   "metadata": {},
   "outputs": [],
   "source": [
    "for curls in field:\n",
    "    fig, ax = plt.subplots()\n",
    "    contour = ax.contourf(X, Y, field[0], levels=levels, cmap='jet')\n",
    "    plt.colorbar(contour)\n",
    "    plt.show()"
   ]
  },
  {
   "cell_type": "code",
   "execution_count": null,
   "metadata": {},
   "outputs": [],
   "source": []
  }
 ],
 "metadata": {
  "kernelspec": {
   "display_name": "igwn-py311",
   "language": "python",
   "name": "python3"
  },
  "language_info": {
   "codemirror_mode": {
    "name": "ipython",
    "version": 3
   },
   "file_extension": ".py",
   "mimetype": "text/x-python",
   "name": "python",
   "nbconvert_exporter": "python",
   "pygments_lexer": "ipython3",
   "version": "3.11.8"
  }
 },
 "nbformat": 4,
 "nbformat_minor": 2
}
